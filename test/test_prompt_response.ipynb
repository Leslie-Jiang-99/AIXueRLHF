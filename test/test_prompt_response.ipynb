{
 "cells": [
  {
   "cell_type": "code",
   "execution_count": 3,
   "id": "f3c3c3ad",
   "metadata": {},
   "outputs": [],
   "source": [
    "def tokenize(element):\n",
    "    messages = [\n",
    "        {\"role\": \"user\", \"content\": element[\"prompt\"]}\n",
    "    ]\n",
    "    text = tokenizer.apply_chat_template(\n",
    "        messages,\n",
    "        tokenize=False,\n",
    "        add_generation_prompt=True,\n",
    "        enable_thinking=False # Switches between thinking and non-thinking modes. Default is True.\n",
    "    )\n",
    "    print(text)\n",
    "    input_ids = tokenizer.encode(\n",
    "        text,\n",
    "        padding=False,\n",
    "    )\n",
    "    text = element[\"response\"] + tokenizer.eos_token\n",
    "    print(text)\n",
    "    response_ids = tokenizer.encode(\n",
    "        text,\n",
    "        padding=False,\n",
    "    )\n",
    "    reward = (element[\"reward\"])\n",
    "    return {\"input_ids\": input_ids, \"response_ids\": response_ids, \"reward\": reward, \"lengths\": len(input_ids)}"
   ]
  },
  {
   "cell_type": "code",
   "execution_count": 4,
   "id": "fda50937",
   "metadata": {},
   "outputs": [
    {
     "name": "stdout",
     "output_type": "stream",
     "text": [
      "<|im_start|>user\n",
      "你好<|im_end|>\n",
      "<|im_start|>assistant\n",
      "<think>\n",
      "\n",
      "</think>\n",
      "\n",
      "\n",
      "我也好<|im_end|>\n"
     ]
    },
    {
     "data": {
      "text/plain": [
       "{'input_ids': [151644,\n",
       "  872,\n",
       "  198,\n",
       "  108386,\n",
       "  151645,\n",
       "  198,\n",
       "  151644,\n",
       "  77091,\n",
       "  198,\n",
       "  151667,\n",
       "  271,\n",
       "  151668,\n",
       "  271],\n",
       " 'response_ids': [104284, 52801, 151645],\n",
       " 'reward': 1,\n",
       " 'lengths': 13}"
      ]
     },
     "execution_count": 4,
     "metadata": {},
     "output_type": "execute_result"
    }
   ],
   "source": [
    "from transformers import AutoTokenizer\n",
    "\n",
    "tokenizer = AutoTokenizer.from_pretrained(\"/root/group-shared/jrc/base-models/Qwen3-32B\")\n",
    "\n",
    "element = dict(\n",
    "    prompt = \"你好\",\n",
    "    response = \"我也好\",\n",
    "    reward = 1\n",
    ")\n",
    "\n",
    "tokenize(element)"
   ]
  },
  {
   "cell_type": "code",
   "execution_count": 4,
   "id": "176fb95c",
   "metadata": {},
   "outputs": [
    {
     "name": "stdout",
     "output_type": "stream",
     "text": [
      "<|im_start|>user\n",
      "你好<|im_end|>\n",
      "<|im_start|>assistant\n",
      "<think>\n",
      "\n",
      "</think>\n",
      "\n",
      "\n",
      "我也好<|im_end|>\n"
     ]
    },
    {
     "data": {
      "text/plain": [
       "{'input_ids': [151644,\n",
       "  872,\n",
       "  198,\n",
       "  108386,\n",
       "  151645,\n",
       "  198,\n",
       "  151644,\n",
       "  77091,\n",
       "  198,\n",
       "  151667,\n",
       "  271,\n",
       "  151668,\n",
       "  271],\n",
       " 'response_ids': [104284, 52801, 151645],\n",
       " 'reward': 1,\n",
       " 'lengths': 13}"
      ]
     },
     "execution_count": 4,
     "metadata": {},
     "output_type": "execute_result"
    }
   ],
   "source": [
    "tokenize(element)"
   ]
  },
  {
   "cell_type": "code",
   "execution_count": 9,
   "id": "db762009",
   "metadata": {},
   "outputs": [
    {
     "name": "stdout",
     "output_type": "stream",
     "text": [
      "<|im_start|>user\n",
      "你好<|im_end|>\n",
      "<|im_start|>assistant\n",
      "<think>\n",
      "\n",
      "</think>\n",
      "\n",
      "我也好<|im_end|>\n"
     ]
    }
   ],
   "source": [
    "\n",
    "print(tokenizer.decode([\n",
    "        151644,\n",
    "        872,\n",
    "        198,\n",
    "        108386,\n",
    "        151645,\n",
    "        198,\n",
    "        151644,\n",
    "        77091,\n",
    "        198,\n",
    "        151667,\n",
    "        271,\n",
    "        151668,\n",
    "        271,\n",
    "        104284,\n",
    "        52801,\n",
    "        151645\n",
    "    ])\n",
    ")"
   ]
  },
  {
   "cell_type": "code",
   "execution_count": 10,
   "id": "2ec59fb0",
   "metadata": {},
   "outputs": [
    {
     "data": {
      "application/vnd.jupyter.widget-view+json": {
       "model_id": "ed4eb20a022e49a296a5053562464dd7",
       "version_major": 2,
       "version_minor": 0
      },
      "text/plain": [
       "Loading checkpoint shards:   0%|          | 0/17 [00:00<?, ?it/s]"
      ]
     },
     "metadata": {},
     "output_type": "display_data"
    }
   ],
   "source": [
    "from transformers import AutoModelForCausalLM\n",
    "model_name = \"/root/group-shared/models/base_models/Qwen3-32B\"\n",
    "\n",
    "# load the tokenizer and the model\n",
    "tokenizer = AutoTokenizer.from_pretrained(model_name)\n",
    "model = AutoModelForCausalLM.from_pretrained(\n",
    "    model_name,\n",
    "    torch_dtype=\"auto\",\n",
    "    device_map=\"auto\",\n",
    "    attn_implementation=\"flash_attention_2\",\n",
    ")"
   ]
  },
  {
   "cell_type": "code",
   "execution_count": 12,
   "id": "2a3f658a",
   "metadata": {},
   "outputs": [],
   "source": [
    "messages = [\n",
    "    {\"role\": \"user\", \"content\": \"你好\"}\n",
    "]\n",
    "\n",
    "text = tokenizer.apply_chat_template(\n",
    "    messages,\n",
    "    tokenize=False,\n",
    "    add_generation_prompt=True,\n",
    "    enable_thinking=False # Switches between thinking and non-thinking modes. Default is True.\n",
    ")\n",
    "model_inputs = tokenizer([text], return_tensors=\"pt\").to(model.device)"
   ]
  },
  {
   "cell_type": "code",
   "execution_count": 14,
   "id": "42e89130",
   "metadata": {},
   "outputs": [
    {
     "name": "stdout",
     "output_type": "stream",
     "text": [
      "<|im_start|>user\n",
      "你好<|im_end|>\n",
      "<|im_start|>assistant\n",
      "<think>\n",
      "\n",
      "</think>\n",
      "\n",
      "你好！很高兴见到你✨ 今天过得怎么样呀？希望你度过了愉快的一天。我随时准备好陪你聊天、帮你解决问题，或者就这样轻松愉快地闲聊一会儿。有什么想跟我分享的吗？ 🌟<|im_end|>\n"
     ]
    }
   ],
   "source": [
    "generated_ids = model.generate(\n",
    "    **model_inputs,\n",
    "    max_new_tokens=32768,\n",
    "    temperature=1.0\n",
    ")\n",
    "output_ids = generated_ids[0].tolist() \n",
    "print(tokenizer.decode(output_ids, skip_special_tokens=False))"
   ]
  },
  {
   "cell_type": "code",
   "execution_count": null,
   "id": "b0f60b99",
   "metadata": {},
   "outputs": [],
   "source": []
  }
 ],
 "metadata": {
  "kernelspec": {
   "display_name": "aixue",
   "language": "python",
   "name": "python3"
  },
  "language_info": {
   "codemirror_mode": {
    "name": "ipython",
    "version": 3
   },
   "file_extension": ".py",
   "mimetype": "text/x-python",
   "name": "python",
   "nbconvert_exporter": "python",
   "pygments_lexer": "ipython3",
   "version": "3.10.18"
  }
 },
 "nbformat": 4,
 "nbformat_minor": 5
}
